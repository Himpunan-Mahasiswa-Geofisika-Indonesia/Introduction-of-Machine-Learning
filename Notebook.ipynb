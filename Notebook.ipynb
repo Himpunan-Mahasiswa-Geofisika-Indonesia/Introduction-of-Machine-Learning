{
 "cells": [
  {
   "cell_type": "markdown",
   "metadata": {},
   "source": [
    "# Introduction of Machine Learning\n",
    "\n",
    "#### Hadyan Pratama, [ezygeo](https://ezygeo.com/)\n",
    "\n",
    "Notebook ini merupakan materi demonstrasi untuk kegiatan Live Forum Github Himpunan Mahasiswa Indonesia [HMGI](https://hmgi.or.id/). Pada Noteboook ini akan dijelaskan bagaimana menerapkan Machine Learning untuk memprediksi facies dari data well log. Data yang digunakan pada Notebook ini diambil dari [The University of Kansas](http://www.people.ku.edu/~gbohling/EECS833/). Latihan pada Notebook ini berdasarkan pada tutorial yang dibuat oleh Brandon Hall pada halaman [Github](https://github.com/brendonhall/facies_classification)."
   ]
  },
  {
   "cell_type": "markdown",
   "metadata": {},
   "source": [
    "## Penjelasan Algoritma KNN"
   ]
  },
  {
   "cell_type": "code",
   "execution_count": 1,
   "metadata": {
    "scrolled": false
   },
   "outputs": [
    {
     "data": {
      "application/vnd.jupyter.widget-view+json": {
       "model_id": "0ca2119ca64e48fd9fda4626c1fc9ab9",
       "version_major": 2,
       "version_minor": 0
      },
      "text/plain": [
       "interactive(children=(IntSlider(value=1, description='N', max=11, min=1, step=2), FloatSlider(value=-5.0, desc…"
      ]
     },
     "metadata": {},
     "output_type": "display_data"
    },
    {
     "data": {
      "text/plain": [
       "<function function.demo.<locals>.knn(N=1, x=-5, y=0, show_decision=False)>"
      ]
     },
     "execution_count": 1,
     "metadata": {},
     "output_type": "execute_result"
    }
   ],
   "source": [
    "from function import *\n",
    "demo()"
   ]
  },
  {
   "cell_type": "markdown",
   "metadata": {},
   "source": [
    "## Import Library\n",
    "### Import pandas, numpy, seaborn dan matplotlib"
   ]
  },
  {
   "cell_type": "code",
   "execution_count": 2,
   "metadata": {
    "scrolled": false
   },
   "outputs": [],
   "source": []
  },
  {
   "cell_type": "markdown",
   "metadata": {},
   "source": [
    "## Import Dataset"
   ]
  },
  {
   "cell_type": "markdown",
   "metadata": {},
   "source": [
    "### Membaca data \"well_label.csv\" dalam format dataframe"
   ]
  },
  {
   "cell_type": "code",
   "execution_count": 3,
   "metadata": {},
   "outputs": [],
   "source": []
  },
  {
   "cell_type": "markdown",
   "metadata": {},
   "source": [
    "### Cek head dari dataframe"
   ]
  },
  {
   "cell_type": "code",
   "execution_count": 4,
   "metadata": {
    "scrolled": true
   },
   "outputs": [
    {
     "data": {
      "text/html": [
       "<div>\n",
       "<style scoped>\n",
       "    .dataframe tbody tr th:only-of-type {\n",
       "        vertical-align: middle;\n",
       "    }\n",
       "\n",
       "    .dataframe tbody tr th {\n",
       "        vertical-align: top;\n",
       "    }\n",
       "\n",
       "    .dataframe thead th {\n",
       "        text-align: right;\n",
       "    }\n",
       "</style>\n",
       "<table border=\"1\" class=\"dataframe\">\n",
       "  <thead>\n",
       "    <tr style=\"text-align: right;\">\n",
       "      <th></th>\n",
       "      <th>Facies</th>\n",
       "      <th>Well Name</th>\n",
       "      <th>GR</th>\n",
       "      <th>ILD_log10</th>\n",
       "      <th>DeltaPHI</th>\n",
       "      <th>PHIND</th>\n",
       "      <th>PE</th>\n",
       "      <th>NM_M</th>\n",
       "      <th>RELPOS</th>\n",
       "    </tr>\n",
       "    <tr>\n",
       "      <th>Depth</th>\n",
       "      <th></th>\n",
       "      <th></th>\n",
       "      <th></th>\n",
       "      <th></th>\n",
       "      <th></th>\n",
       "      <th></th>\n",
       "      <th></th>\n",
       "      <th></th>\n",
       "      <th></th>\n",
       "    </tr>\n",
       "  </thead>\n",
       "  <tbody>\n",
       "    <tr>\n",
       "      <th>2793.0</th>\n",
       "      <td>3</td>\n",
       "      <td>SHRIMPLIN</td>\n",
       "      <td>77.45</td>\n",
       "      <td>0.664</td>\n",
       "      <td>9.9</td>\n",
       "      <td>11.915</td>\n",
       "      <td>4.6</td>\n",
       "      <td>1</td>\n",
       "      <td>1.000</td>\n",
       "    </tr>\n",
       "    <tr>\n",
       "      <th>2793.5</th>\n",
       "      <td>3</td>\n",
       "      <td>SHRIMPLIN</td>\n",
       "      <td>78.26</td>\n",
       "      <td>0.661</td>\n",
       "      <td>14.2</td>\n",
       "      <td>12.565</td>\n",
       "      <td>4.1</td>\n",
       "      <td>1</td>\n",
       "      <td>0.979</td>\n",
       "    </tr>\n",
       "    <tr>\n",
       "      <th>2794.0</th>\n",
       "      <td>3</td>\n",
       "      <td>SHRIMPLIN</td>\n",
       "      <td>79.05</td>\n",
       "      <td>0.658</td>\n",
       "      <td>14.8</td>\n",
       "      <td>13.050</td>\n",
       "      <td>3.6</td>\n",
       "      <td>1</td>\n",
       "      <td>0.957</td>\n",
       "    </tr>\n",
       "    <tr>\n",
       "      <th>2794.5</th>\n",
       "      <td>3</td>\n",
       "      <td>SHRIMPLIN</td>\n",
       "      <td>86.10</td>\n",
       "      <td>0.655</td>\n",
       "      <td>13.9</td>\n",
       "      <td>13.115</td>\n",
       "      <td>3.5</td>\n",
       "      <td>1</td>\n",
       "      <td>0.936</td>\n",
       "    </tr>\n",
       "    <tr>\n",
       "      <th>2795.0</th>\n",
       "      <td>3</td>\n",
       "      <td>SHRIMPLIN</td>\n",
       "      <td>74.58</td>\n",
       "      <td>0.647</td>\n",
       "      <td>13.5</td>\n",
       "      <td>13.300</td>\n",
       "      <td>3.4</td>\n",
       "      <td>1</td>\n",
       "      <td>0.915</td>\n",
       "    </tr>\n",
       "  </tbody>\n",
       "</table>\n",
       "</div>"
      ],
      "text/plain": [
       "        Facies  Well Name     GR  ILD_log10  DeltaPHI   PHIND   PE  NM_M  \\\n",
       "Depth                                                                      \n",
       "2793.0       3  SHRIMPLIN  77.45      0.664       9.9  11.915  4.6     1   \n",
       "2793.5       3  SHRIMPLIN  78.26      0.661      14.2  12.565  4.1     1   \n",
       "2794.0       3  SHRIMPLIN  79.05      0.658      14.8  13.050  3.6     1   \n",
       "2794.5       3  SHRIMPLIN  86.10      0.655      13.9  13.115  3.5     1   \n",
       "2795.0       3  SHRIMPLIN  74.58      0.647      13.5  13.300  3.4     1   \n",
       "\n",
       "        RELPOS  \n",
       "Depth           \n",
       "2793.0   1.000  \n",
       "2793.5   0.979  \n",
       "2794.0   0.957  \n",
       "2794.5   0.936  \n",
       "2795.0   0.915  "
      ]
     },
     "execution_count": 4,
     "metadata": {},
     "output_type": "execute_result"
    }
   ],
   "source": []
  },
  {
   "cell_type": "markdown",
   "metadata": {},
   "source": [
    "## Plot Data Well Log"
   ]
  },
  {
   "cell_type": "code",
   "execution_count": 5,
   "metadata": {},
   "outputs": [
    {
     "data": {
      "image/png": "[encoded data removed]",
      "text/plain": [
       "<Figure size 576x864 with 7 Axes>"
      ]
     },
     "metadata": {
      "needs_background": "light"
     },
     "output_type": "display_data"
    }
   ],
   "source": [
    "plot_log(df, 'SHRIMPLIN')"
   ]
  },
  {
   "cell_type": "markdown",
   "metadata": {},
   "source": [
    "## Membagi Data Input dan Output"
   ]
  },
  {
   "cell_type": "markdown",
   "metadata": {},
   "source": [
    "### Data Input"
   ]
  },
  {
   "cell_type": "code",
   "execution_count": 6,
   "metadata": {},
   "outputs": [],
   "source": []
  },
  {
   "cell_type": "markdown",
   "metadata": {},
   "source": [
    "### Data Output"
   ]
  },
  {
   "cell_type": "code",
   "execution_count": 7,
   "metadata": {},
   "outputs": [],
   "source": []
  },
  {
   "cell_type": "markdown",
   "metadata": {},
   "source": [
    "### Deskripsi data"
   ]
  },
  {
   "cell_type": "code",
   "execution_count": 8,
   "metadata": {
    "scrolled": false
   },
   "outputs": [
    {
     "data": {
      "text/html": [
       "<div>\n",
       "<style scoped>\n",
       "    .dataframe tbody tr th:only-of-type {\n",
       "        vertical-align: middle;\n",
       "    }\n",
       "\n",
       "    .dataframe tbody tr th {\n",
       "        vertical-align: top;\n",
       "    }\n",
       "\n",
       "    .dataframe thead th {\n",
       "        text-align: right;\n",
       "    }\n",
       "</style>\n",
       "<table border=\"1\" class=\"dataframe\">\n",
       "  <thead>\n",
       "    <tr style=\"text-align: right;\">\n",
       "      <th></th>\n",
       "      <th>GR</th>\n",
       "      <th>ILD_log10</th>\n",
       "      <th>DeltaPHI</th>\n",
       "      <th>PHIND</th>\n",
       "      <th>PE</th>\n",
       "      <th>NM_M</th>\n",
       "      <th>RELPOS</th>\n",
       "    </tr>\n",
       "  </thead>\n",
       "  <tbody>\n",
       "    <tr>\n",
       "      <th>count</th>\n",
       "      <td>3232.000000</td>\n",
       "      <td>3232.000000</td>\n",
       "      <td>3232.000000</td>\n",
       "      <td>3232.000000</td>\n",
       "      <td>3232.000000</td>\n",
       "      <td>3232.000000</td>\n",
       "      <td>3232.000000</td>\n",
       "    </tr>\n",
       "    <tr>\n",
       "      <th>mean</th>\n",
       "      <td>66.135769</td>\n",
       "      <td>0.642719</td>\n",
       "      <td>3.559642</td>\n",
       "      <td>13.483213</td>\n",
       "      <td>3.725014</td>\n",
       "      <td>1.498453</td>\n",
       "      <td>0.520287</td>\n",
       "    </tr>\n",
       "    <tr>\n",
       "      <th>std</th>\n",
       "      <td>30.854826</td>\n",
       "      <td>0.241845</td>\n",
       "      <td>5.228948</td>\n",
       "      <td>7.698980</td>\n",
       "      <td>0.896152</td>\n",
       "      <td>0.500075</td>\n",
       "      <td>0.286792</td>\n",
       "    </tr>\n",
       "    <tr>\n",
       "      <th>min</th>\n",
       "      <td>13.250000</td>\n",
       "      <td>-0.025949</td>\n",
       "      <td>-21.832000</td>\n",
       "      <td>0.550000</td>\n",
       "      <td>0.200000</td>\n",
       "      <td>1.000000</td>\n",
       "      <td>0.010000</td>\n",
       "    </tr>\n",
       "    <tr>\n",
       "      <th>25%</th>\n",
       "      <td>46.918750</td>\n",
       "      <td>0.492750</td>\n",
       "      <td>1.163750</td>\n",
       "      <td>8.346750</td>\n",
       "      <td>3.100000</td>\n",
       "      <td>1.000000</td>\n",
       "      <td>0.273000</td>\n",
       "    </tr>\n",
       "    <tr>\n",
       "      <th>50%</th>\n",
       "      <td>65.721500</td>\n",
       "      <td>0.624437</td>\n",
       "      <td>3.500000</td>\n",
       "      <td>12.150000</td>\n",
       "      <td>3.551500</td>\n",
       "      <td>1.000000</td>\n",
       "      <td>0.526000</td>\n",
       "    </tr>\n",
       "    <tr>\n",
       "      <th>75%</th>\n",
       "      <td>79.626250</td>\n",
       "      <td>0.812735</td>\n",
       "      <td>6.432500</td>\n",
       "      <td>16.453750</td>\n",
       "      <td>4.300000</td>\n",
       "      <td>2.000000</td>\n",
       "      <td>0.767250</td>\n",
       "    </tr>\n",
       "    <tr>\n",
       "      <th>max</th>\n",
       "      <td>361.150000</td>\n",
       "      <td>1.480000</td>\n",
       "      <td>18.600000</td>\n",
       "      <td>84.400000</td>\n",
       "      <td>8.094000</td>\n",
       "      <td>2.000000</td>\n",
       "      <td>1.000000</td>\n",
       "    </tr>\n",
       "  </tbody>\n",
       "</table>\n",
       "</div>"
      ],
      "text/plain": [
       "                GR    ILD_log10     DeltaPHI        PHIND           PE  \\\n",
       "count  3232.000000  3232.000000  3232.000000  3232.000000  3232.000000   \n",
       "mean     66.135769     0.642719     3.559642    13.483213     3.725014   \n",
       "std      30.854826     0.241845     5.228948     7.698980     0.896152   \n",
       "min      13.250000    -0.025949   -21.832000     0.550000     0.200000   \n",
       "25%      46.918750     0.492750     1.163750     8.346750     3.100000   \n",
       "50%      65.721500     0.624437     3.500000    12.150000     3.551500   \n",
       "75%      79.626250     0.812735     6.432500    16.453750     4.300000   \n",
       "max     361.150000     1.480000    18.600000    84.400000     8.094000   \n",
       "\n",
       "              NM_M       RELPOS  \n",
       "count  3232.000000  3232.000000  \n",
       "mean      1.498453     0.520287  \n",
       "std       0.500075     0.286792  \n",
       "min       1.000000     0.010000  \n",
       "25%       1.000000     0.273000  \n",
       "50%       1.000000     0.526000  \n",
       "75%       2.000000     0.767250  \n",
       "max       2.000000     1.000000  "
      ]
     },
     "execution_count": 8,
     "metadata": {},
     "output_type": "execute_result"
    }
   ],
   "source": []
  },
  {
   "cell_type": "markdown",
   "metadata": {},
   "source": [
    "## Standarisasi Data"
   ]
  },
  {
   "cell_type": "markdown",
   "metadata": {},
   "source": [
    "### Import StandardScaller dari Library Scikit Learn"
   ]
  },
  {
   "cell_type": "code",
   "execution_count": 9,
   "metadata": {},
   "outputs": [],
   "source": []
  },
  {
   "cell_type": "markdown",
   "metadata": {},
   "source": [
    "### Membuat fungsi StandardScaler"
   ]
  },
  {
   "cell_type": "code",
   "execution_count": 10,
   "metadata": {},
   "outputs": [],
   "source": []
  },
  {
   "cell_type": "markdown",
   "metadata": {},
   "source": [
    "### Menerapkan pada data input"
   ]
  },
  {
   "cell_type": "code",
   "execution_count": 11,
   "metadata": {},
   "outputs": [
    {
     "data": {
      "text/plain": [
       "StandardScaler(copy=True, with_mean=True, with_std=True)"
      ]
     },
     "execution_count": 11,
     "metadata": {},
     "output_type": "execute_result"
    }
   ],
   "source": []
  },
  {
   "cell_type": "markdown",
   "metadata": {},
   "source": [
    "### Mengubah data input setelah dilakukan standarisasi"
   ]
  },
  {
   "cell_type": "code",
   "execution_count": 12,
   "metadata": {},
   "outputs": [],
   "source": []
  },
  {
   "cell_type": "markdown",
   "metadata": {},
   "source": [
    "### Melihat deskripsi data yang sudah distandarisasi"
   ]
  },
  {
   "cell_type": "code",
   "execution_count": 13,
   "metadata": {},
   "outputs": [
    {
     "data": {
      "text/html": [
       "<div>\n",
       "<style scoped>\n",
       "    .dataframe tbody tr th:only-of-type {\n",
       "        vertical-align: middle;\n",
       "    }\n",
       "\n",
       "    .dataframe tbody tr th {\n",
       "        vertical-align: top;\n",
       "    }\n",
       "\n",
       "    .dataframe thead th {\n",
       "        text-align: right;\n",
       "    }\n",
       "</style>\n",
       "<table border=\"1\" class=\"dataframe\">\n",
       "  <thead>\n",
       "    <tr style=\"text-align: right;\">\n",
       "      <th></th>\n",
       "      <th>GR</th>\n",
       "      <th>ILD_log10</th>\n",
       "      <th>DeltaPHI</th>\n",
       "      <th>PHIND</th>\n",
       "      <th>PE</th>\n",
       "      <th>NM_M</th>\n",
       "      <th>RELPOS</th>\n",
       "    </tr>\n",
       "  </thead>\n",
       "  <tbody>\n",
       "    <tr>\n",
       "      <th>count</th>\n",
       "      <td>3.232000e+03</td>\n",
       "      <td>3.232000e+03</td>\n",
       "      <td>3.232000e+03</td>\n",
       "      <td>3.232000e+03</td>\n",
       "      <td>3.232000e+03</td>\n",
       "      <td>3.232000e+03</td>\n",
       "      <td>3.232000e+03</td>\n",
       "    </tr>\n",
       "    <tr>\n",
       "      <th>mean</th>\n",
       "      <td>3.033190e-16</td>\n",
       "      <td>4.495167e-16</td>\n",
       "      <td>-4.356560e-17</td>\n",
       "      <td>1.262398e-16</td>\n",
       "      <td>6.817635e-16</td>\n",
       "      <td>1.556511e-15</td>\n",
       "      <td>7.747859e-17</td>\n",
       "    </tr>\n",
       "    <tr>\n",
       "      <th>std</th>\n",
       "      <td>1.000155e+00</td>\n",
       "      <td>1.000155e+00</td>\n",
       "      <td>1.000155e+00</td>\n",
       "      <td>1.000155e+00</td>\n",
       "      <td>1.000155e+00</td>\n",
       "      <td>1.000155e+00</td>\n",
       "      <td>1.000155e+00</td>\n",
       "    </tr>\n",
       "    <tr>\n",
       "      <th>min</th>\n",
       "      <td>-1.714285e+00</td>\n",
       "      <td>-2.765296e+00</td>\n",
       "      <td>-4.856726e+00</td>\n",
       "      <td>-1.680121e+00</td>\n",
       "      <td>-3.934108e+00</td>\n",
       "      <td>-9.969107e-01</td>\n",
       "      <td>-1.779569e+00</td>\n",
       "    </tr>\n",
       "    <tr>\n",
       "      <th>25%</th>\n",
       "      <td>-6.229169e-01</td>\n",
       "      <td>-6.202015e-01</td>\n",
       "      <td>-4.582685e-01</td>\n",
       "      <td>-6.672647e-01</td>\n",
       "      <td>-6.975496e-01</td>\n",
       "      <td>-9.969107e-01</td>\n",
       "      <td>-8.623869e-01</td>\n",
       "    </tr>\n",
       "    <tr>\n",
       "      <th>50%</th>\n",
       "      <td>-1.342848e-02</td>\n",
       "      <td>-7.560721e-02</td>\n",
       "      <td>-1.140783e-02</td>\n",
       "      <td>-1.731943e-01</td>\n",
       "      <td>-1.936510e-01</td>\n",
       "      <td>-9.969107e-01</td>\n",
       "      <td>1.992191e-02</td>\n",
       "    </tr>\n",
       "    <tr>\n",
       "      <th>75%</th>\n",
       "      <td>4.372920e-01</td>\n",
       "      <td>7.031033e-01</td>\n",
       "      <td>5.494992e-01</td>\n",
       "      <td>3.858948e-01</td>\n",
       "      <td>6.417158e-01</td>\n",
       "      <td>1.003099e+00</td>\n",
       "      <td>8.612539e-01</td>\n",
       "    </tr>\n",
       "    <tr>\n",
       "      <th>max</th>\n",
       "      <td>9.562844e+00</td>\n",
       "      <td>3.462598e+00</td>\n",
       "      <td>2.876809e+00</td>\n",
       "      <td>9.212618e+00</td>\n",
       "      <td>4.876027e+00</td>\n",
       "      <td>1.003099e+00</td>\n",
       "      <td>1.672943e+00</td>\n",
       "    </tr>\n",
       "  </tbody>\n",
       "</table>\n",
       "</div>"
      ],
      "text/plain": [
       "                 GR     ILD_log10      DeltaPHI         PHIND            PE  \\\n",
       "count  3.232000e+03  3.232000e+03  3.232000e+03  3.232000e+03  3.232000e+03   \n",
       "mean   3.033190e-16  4.495167e-16 -4.356560e-17  1.262398e-16  6.817635e-16   \n",
       "std    1.000155e+00  1.000155e+00  1.000155e+00  1.000155e+00  1.000155e+00   \n",
       "min   -1.714285e+00 -2.765296e+00 -4.856726e+00 -1.680121e+00 -3.934108e+00   \n",
       "25%   -6.229169e-01 -6.202015e-01 -4.582685e-01 -6.672647e-01 -6.975496e-01   \n",
       "50%   -1.342848e-02 -7.560721e-02 -1.140783e-02 -1.731943e-01 -1.936510e-01   \n",
       "75%    4.372920e-01  7.031033e-01  5.494992e-01  3.858948e-01  6.417158e-01   \n",
       "max    9.562844e+00  3.462598e+00  2.876809e+00  9.212618e+00  4.876027e+00   \n",
       "\n",
       "               NM_M        RELPOS  \n",
       "count  3.232000e+03  3.232000e+03  \n",
       "mean   1.556511e-15  7.747859e-17  \n",
       "std    1.000155e+00  1.000155e+00  \n",
       "min   -9.969107e-01 -1.779569e+00  \n",
       "25%   -9.969107e-01 -8.623869e-01  \n",
       "50%   -9.969107e-01  1.992191e-02  \n",
       "75%    1.003099e+00  8.612539e-01  \n",
       "max    1.003099e+00  1.672943e+00  "
      ]
     },
     "execution_count": 13,
     "metadata": {},
     "output_type": "execute_result"
    }
   ],
   "source": []
  },
  {
   "cell_type": "markdown",
   "metadata": {},
   "source": [
    "## Membagi Data Train dan Test"
   ]
  },
  {
   "cell_type": "markdown",
   "metadata": {},
   "source": [
    "### Import TrainTestSplit dari Library Sklearn"
   ]
  },
  {
   "cell_type": "code",
   "execution_count": 14,
   "metadata": {},
   "outputs": [],
   "source": []
  },
  {
   "cell_type": "markdown",
   "metadata": {},
   "source": [
    "### Menentukan data X_train, y_train, X_test, y_test"
   ]
  },
  {
   "cell_type": "code",
   "execution_count": 15,
   "metadata": {},
   "outputs": [],
   "source": []
  },
  {
   "cell_type": "markdown",
   "metadata": {},
   "source": [
    "## Algoritma KNN"
   ]
  },
  {
   "cell_type": "markdown",
   "metadata": {},
   "source": [
    "### Import algoritma KNN dari Library Sklearn"
   ]
  },
  {
   "cell_type": "code",
   "execution_count": 16,
   "metadata": {},
   "outputs": [],
   "source": []
  },
  {
   "cell_type": "markdown",
   "metadata": {},
   "source": [
    "### Membuat model KNN dengan N = 3"
   ]
  },
  {
   "cell_type": "code",
   "execution_count": 17,
   "metadata": {},
   "outputs": [],
   "source": []
  },
  {
   "cell_type": "markdown",
   "metadata": {},
   "source": [
    "### Terapkan model pada data train"
   ]
  },
  {
   "cell_type": "code",
   "execution_count": 18,
   "metadata": {},
   "outputs": [
    {
     "data": {
      "text/plain": [
       "KNeighborsClassifier(algorithm='auto', leaf_size=30, metric='minkowski',\n",
       "                     metric_params=None, n_jobs=None, n_neighbors=3, p=2,\n",
       "                     weights='uniform')"
      ]
     },
     "execution_count": 18,
     "metadata": {},
     "output_type": "execute_result"
    }
   ],
   "source": []
  },
  {
   "cell_type": "markdown",
   "metadata": {},
   "source": [
    "### Prediksi y_test dengan model yang telah dibuat"
   ]
  },
  {
   "cell_type": "code",
   "execution_count": 19,
   "metadata": {},
   "outputs": [],
   "source": []
  },
  {
   "cell_type": "markdown",
   "metadata": {},
   "source": [
    "## Evaluasi Model"
   ]
  },
  {
   "cell_type": "markdown",
   "metadata": {},
   "source": [
    "### Import classification report dari Library Sklearn"
   ]
  },
  {
   "cell_type": "code",
   "execution_count": 20,
   "metadata": {},
   "outputs": [],
   "source": []
  },
  {
   "cell_type": "code",
   "execution_count": 21,
   "metadata": {},
   "outputs": [
    {
     "name": "stdout",
     "output_type": "stream",
     "text": [
      "              precision    recall  f1-score   support\n",
      "\n",
      "           1       0.74      0.79      0.77        72\n",
      "           2       0.74      0.77      0.75       252\n",
      "           3       0.75      0.73      0.74       200\n",
      "           4       0.53      0.75      0.62        57\n",
      "           5       0.59      0.55      0.57        73\n",
      "           6       0.71      0.66      0.69       149\n",
      "           7       0.74      0.57      0.65        35\n",
      "           8       0.74      0.66      0.70       166\n",
      "           9       0.83      0.90      0.86        63\n",
      "\n",
      "    accuracy                           0.72      1067\n",
      "   macro avg       0.71      0.71      0.70      1067\n",
      "weighted avg       0.72      0.72      0.72      1067\n",
      "\n"
     ]
    }
   ],
   "source": []
  },
  {
   "cell_type": "markdown",
   "metadata": {},
   "source": [
    "## Prediksi pada Data Validation"
   ]
  },
  {
   "cell_type": "markdown",
   "metadata": {},
   "source": [
    "### Membaca data \"well_nolabel.csv\" menjadi Dataframe"
   ]
  },
  {
   "cell_type": "code",
   "execution_count": 22,
   "metadata": {},
   "outputs": [
    {
     "data": {
      "text/html": [
       "<div>\n",
       "<style scoped>\n",
       "    .dataframe tbody tr th:only-of-type {\n",
       "        vertical-align: middle;\n",
       "    }\n",
       "\n",
       "    .dataframe tbody tr th {\n",
       "        vertical-align: top;\n",
       "    }\n",
       "\n",
       "    .dataframe thead th {\n",
       "        text-align: right;\n",
       "    }\n",
       "</style>\n",
       "<table border=\"1\" class=\"dataframe\">\n",
       "  <thead>\n",
       "    <tr style=\"text-align: right;\">\n",
       "      <th></th>\n",
       "      <th>Well Name</th>\n",
       "      <th>GR</th>\n",
       "      <th>ILD_log10</th>\n",
       "      <th>DeltaPHI</th>\n",
       "      <th>PHIND</th>\n",
       "      <th>PE</th>\n",
       "      <th>NM_M</th>\n",
       "      <th>RELPOS</th>\n",
       "    </tr>\n",
       "    <tr>\n",
       "      <th>Depth</th>\n",
       "      <th></th>\n",
       "      <th></th>\n",
       "      <th></th>\n",
       "      <th></th>\n",
       "      <th></th>\n",
       "      <th></th>\n",
       "      <th></th>\n",
       "      <th></th>\n",
       "    </tr>\n",
       "  </thead>\n",
       "  <tbody>\n",
       "    <tr>\n",
       "      <th>2808.0</th>\n",
       "      <td>STUART</td>\n",
       "      <td>66.276</td>\n",
       "      <td>0.630</td>\n",
       "      <td>3.3</td>\n",
       "      <td>10.65</td>\n",
       "      <td>3.591</td>\n",
       "      <td>1</td>\n",
       "      <td>1.000</td>\n",
       "    </tr>\n",
       "    <tr>\n",
       "      <th>2808.5</th>\n",
       "      <td>STUART</td>\n",
       "      <td>77.252</td>\n",
       "      <td>0.585</td>\n",
       "      <td>6.5</td>\n",
       "      <td>11.95</td>\n",
       "      <td>3.341</td>\n",
       "      <td>1</td>\n",
       "      <td>0.978</td>\n",
       "    </tr>\n",
       "    <tr>\n",
       "      <th>2809.0</th>\n",
       "      <td>STUART</td>\n",
       "      <td>82.899</td>\n",
       "      <td>0.566</td>\n",
       "      <td>9.4</td>\n",
       "      <td>13.60</td>\n",
       "      <td>3.064</td>\n",
       "      <td>1</td>\n",
       "      <td>0.956</td>\n",
       "    </tr>\n",
       "    <tr>\n",
       "      <th>2809.5</th>\n",
       "      <td>STUART</td>\n",
       "      <td>80.671</td>\n",
       "      <td>0.593</td>\n",
       "      <td>9.5</td>\n",
       "      <td>13.25</td>\n",
       "      <td>2.977</td>\n",
       "      <td>1</td>\n",
       "      <td>0.933</td>\n",
       "    </tr>\n",
       "    <tr>\n",
       "      <th>2810.0</th>\n",
       "      <td>STUART</td>\n",
       "      <td>75.971</td>\n",
       "      <td>0.638</td>\n",
       "      <td>8.7</td>\n",
       "      <td>12.35</td>\n",
       "      <td>3.020</td>\n",
       "      <td>1</td>\n",
       "      <td>0.911</td>\n",
       "    </tr>\n",
       "  </tbody>\n",
       "</table>\n",
       "</div>"
      ],
      "text/plain": [
       "       Well Name      GR  ILD_log10  DeltaPHI  PHIND     PE  NM_M  RELPOS\n",
       "Depth                                                                    \n",
       "2808.0    STUART  66.276      0.630       3.3  10.65  3.591     1   1.000\n",
       "2808.5    STUART  77.252      0.585       6.5  11.95  3.341     1   0.978\n",
       "2809.0    STUART  82.899      0.566       9.4  13.60  3.064     1   0.956\n",
       "2809.5    STUART  80.671      0.593       9.5  13.25  2.977     1   0.933\n",
       "2810.0    STUART  75.971      0.638       8.7  12.35  3.020     1   0.911"
      ]
     },
     "execution_count": 22,
     "metadata": {},
     "output_type": "execute_result"
    }
   ],
   "source": []
  },
  {
   "cell_type": "markdown",
   "metadata": {},
   "source": [
    "### Membuat input pada data validation"
   ]
  },
  {
   "cell_type": "code",
   "execution_count": 23,
   "metadata": {},
   "outputs": [],
   "source": []
  },
  {
   "cell_type": "markdown",
   "metadata": {},
   "source": [
    "### Standarisasi data input"
   ]
  },
  {
   "cell_type": "code",
   "execution_count": 24,
   "metadata": {
    "scrolled": true
   },
   "outputs": [
    {
     "data": {
      "text/html": [
       "<div>\n",
       "<style scoped>\n",
       "    .dataframe tbody tr th:only-of-type {\n",
       "        vertical-align: middle;\n",
       "    }\n",
       "\n",
       "    .dataframe tbody tr th {\n",
       "        vertical-align: top;\n",
       "    }\n",
       "\n",
       "    .dataframe thead th {\n",
       "        text-align: right;\n",
       "    }\n",
       "</style>\n",
       "<table border=\"1\" class=\"dataframe\">\n",
       "  <thead>\n",
       "    <tr style=\"text-align: right;\">\n",
       "      <th></th>\n",
       "      <th>GR</th>\n",
       "      <th>ILD_log10</th>\n",
       "      <th>DeltaPHI</th>\n",
       "      <th>PHIND</th>\n",
       "      <th>PE</th>\n",
       "      <th>NM_M</th>\n",
       "      <th>RELPOS</th>\n",
       "    </tr>\n",
       "  </thead>\n",
       "  <tbody>\n",
       "    <tr>\n",
       "      <th>count</th>\n",
       "      <td>830.000000</td>\n",
       "      <td>830.000000</td>\n",
       "      <td>830.000000</td>\n",
       "      <td>830.000000</td>\n",
       "      <td>830.000000</td>\n",
       "      <td>830.000000</td>\n",
       "      <td>830.000000</td>\n",
       "    </tr>\n",
       "    <tr>\n",
       "      <th>mean</th>\n",
       "      <td>-0.276305</td>\n",
       "      <td>0.097569</td>\n",
       "      <td>-0.135359</td>\n",
       "      <td>-0.237462</td>\n",
       "      <td>-0.079056</td>\n",
       "      <td>0.359722</td>\n",
       "      <td>0.054124</td>\n",
       "    </tr>\n",
       "    <tr>\n",
       "      <th>std</th>\n",
       "      <td>0.892308</td>\n",
       "      <td>1.192551</td>\n",
       "      <td>0.658375</td>\n",
       "      <td>0.674250</td>\n",
       "      <td>0.725205</td>\n",
       "      <td>0.934815</td>\n",
       "      <td>0.987146</td>\n",
       "    </tr>\n",
       "    <tr>\n",
       "      <th>min</th>\n",
       "      <td>-1.753636</td>\n",
       "      <td>-4.593410</td>\n",
       "      <td>-2.383188</td>\n",
       "      <td>-1.510591</td>\n",
       "      <td>-1.799095</td>\n",
       "      <td>-0.996911</td>\n",
       "      <td>-1.769107</td>\n",
       "    </tr>\n",
       "    <tr>\n",
       "      <th>25%</th>\n",
       "      <td>-0.951782</td>\n",
       "      <td>-0.420662</td>\n",
       "      <td>-0.602201</td>\n",
       "      <td>-0.751282</td>\n",
       "      <td>-0.617752</td>\n",
       "      <td>-0.996911</td>\n",
       "      <td>-0.768227</td>\n",
       "    </tr>\n",
       "    <tr>\n",
       "      <th>50%</th>\n",
       "      <td>-0.252553</td>\n",
       "      <td>0.133498</td>\n",
       "      <td>-0.222286</td>\n",
       "      <td>-0.329083</td>\n",
       "      <td>-0.233829</td>\n",
       "      <td>1.003099</td>\n",
       "      <td>0.094901</td>\n",
       "    </tr>\n",
       "    <tr>\n",
       "      <th>75%</th>\n",
       "      <td>0.224172</td>\n",
       "      <td>0.860317</td>\n",
       "      <td>0.198992</td>\n",
       "      <td>0.170248</td>\n",
       "      <td>0.520624</td>\n",
       "      <td>1.003099</td>\n",
       "      <td>0.898743</td>\n",
       "    </tr>\n",
       "    <tr>\n",
       "      <th>max</th>\n",
       "      <td>5.000874</td>\n",
       "      <td>3.574257</td>\n",
       "      <td>2.475136</td>\n",
       "      <td>2.319080</td>\n",
       "      <td>2.897262</td>\n",
       "      <td>1.003099</td>\n",
       "      <td>1.672943</td>\n",
       "    </tr>\n",
       "  </tbody>\n",
       "</table>\n",
       "</div>"
      ],
      "text/plain": [
       "               GR   ILD_log10    DeltaPHI       PHIND          PE        NM_M  \\\n",
       "count  830.000000  830.000000  830.000000  830.000000  830.000000  830.000000   \n",
       "mean    -0.276305    0.097569   -0.135359   -0.237462   -0.079056    0.359722   \n",
       "std      0.892308    1.192551    0.658375    0.674250    0.725205    0.934815   \n",
       "min     -1.753636   -4.593410   -2.383188   -1.510591   -1.799095   -0.996911   \n",
       "25%     -0.951782   -0.420662   -0.602201   -0.751282   -0.617752   -0.996911   \n",
       "50%     -0.252553    0.133498   -0.222286   -0.329083   -0.233829    1.003099   \n",
       "75%      0.224172    0.860317    0.198992    0.170248    0.520624    1.003099   \n",
       "max      5.000874    3.574257    2.475136    2.319080    2.897262    1.003099   \n",
       "\n",
       "           RELPOS  \n",
       "count  830.000000  \n",
       "mean     0.054124  \n",
       "std      0.987146  \n",
       "min     -1.769107  \n",
       "25%     -0.768227  \n",
       "50%      0.094901  \n",
       "75%      0.898743  \n",
       "max      1.672943  "
      ]
     },
     "execution_count": 24,
     "metadata": {},
     "output_type": "execute_result"
    }
   ],
   "source": []
  },
  {
   "cell_type": "markdown",
   "metadata": {},
   "source": [
    "### Memprediksi facies pada data validation"
   ]
  },
  {
   "cell_type": "code",
   "execution_count": 25,
   "metadata": {},
   "outputs": [],
   "source": []
  },
  {
   "cell_type": "markdown",
   "metadata": {},
   "source": [
    "### Membuat kolom \"Facies\" hasil prediksi pada data validation"
   ]
  },
  {
   "cell_type": "code",
   "execution_count": 26,
   "metadata": {},
   "outputs": [
    {
     "data": {
      "text/html": [
       "<div>\n",
       "<style scoped>\n",
       "    .dataframe tbody tr th:only-of-type {\n",
       "        vertical-align: middle;\n",
       "    }\n",
       "\n",
       "    .dataframe tbody tr th {\n",
       "        vertical-align: top;\n",
       "    }\n",
       "\n",
       "    .dataframe thead th {\n",
       "        text-align: right;\n",
       "    }\n",
       "</style>\n",
       "<table border=\"1\" class=\"dataframe\">\n",
       "  <thead>\n",
       "    <tr style=\"text-align: right;\">\n",
       "      <th></th>\n",
       "      <th>Well Name</th>\n",
       "      <th>GR</th>\n",
       "      <th>ILD_log10</th>\n",
       "      <th>DeltaPHI</th>\n",
       "      <th>PHIND</th>\n",
       "      <th>PE</th>\n",
       "      <th>NM_M</th>\n",
       "      <th>RELPOS</th>\n",
       "      <th>Facies</th>\n",
       "    </tr>\n",
       "    <tr>\n",
       "      <th>Depth</th>\n",
       "      <th></th>\n",
       "      <th></th>\n",
       "      <th></th>\n",
       "      <th></th>\n",
       "      <th></th>\n",
       "      <th></th>\n",
       "      <th></th>\n",
       "      <th></th>\n",
       "      <th></th>\n",
       "    </tr>\n",
       "  </thead>\n",
       "  <tbody>\n",
       "    <tr>\n",
       "      <th>2808.0</th>\n",
       "      <td>STUART</td>\n",
       "      <td>66.276</td>\n",
       "      <td>0.630</td>\n",
       "      <td>3.3</td>\n",
       "      <td>10.65</td>\n",
       "      <td>3.591</td>\n",
       "      <td>1</td>\n",
       "      <td>1.000</td>\n",
       "      <td>3</td>\n",
       "    </tr>\n",
       "    <tr>\n",
       "      <th>2808.5</th>\n",
       "      <td>STUART</td>\n",
       "      <td>77.252</td>\n",
       "      <td>0.585</td>\n",
       "      <td>6.5</td>\n",
       "      <td>11.95</td>\n",
       "      <td>3.341</td>\n",
       "      <td>1</td>\n",
       "      <td>0.978</td>\n",
       "      <td>3</td>\n",
       "    </tr>\n",
       "    <tr>\n",
       "      <th>2809.0</th>\n",
       "      <td>STUART</td>\n",
       "      <td>82.899</td>\n",
       "      <td>0.566</td>\n",
       "      <td>9.4</td>\n",
       "      <td>13.60</td>\n",
       "      <td>3.064</td>\n",
       "      <td>1</td>\n",
       "      <td>0.956</td>\n",
       "      <td>3</td>\n",
       "    </tr>\n",
       "    <tr>\n",
       "      <th>2809.5</th>\n",
       "      <td>STUART</td>\n",
       "      <td>80.671</td>\n",
       "      <td>0.593</td>\n",
       "      <td>9.5</td>\n",
       "      <td>13.25</td>\n",
       "      <td>2.977</td>\n",
       "      <td>1</td>\n",
       "      <td>0.933</td>\n",
       "      <td>2</td>\n",
       "    </tr>\n",
       "    <tr>\n",
       "      <th>2810.0</th>\n",
       "      <td>STUART</td>\n",
       "      <td>75.971</td>\n",
       "      <td>0.638</td>\n",
       "      <td>8.7</td>\n",
       "      <td>12.35</td>\n",
       "      <td>3.020</td>\n",
       "      <td>1</td>\n",
       "      <td>0.911</td>\n",
       "      <td>1</td>\n",
       "    </tr>\n",
       "  </tbody>\n",
       "</table>\n",
       "</div>"
      ],
      "text/plain": [
       "       Well Name      GR  ILD_log10  DeltaPHI  PHIND     PE  NM_M  RELPOS  \\\n",
       "Depth                                                                       \n",
       "2808.0    STUART  66.276      0.630       3.3  10.65  3.591     1   1.000   \n",
       "2808.5    STUART  77.252      0.585       6.5  11.95  3.341     1   0.978   \n",
       "2809.0    STUART  82.899      0.566       9.4  13.60  3.064     1   0.956   \n",
       "2809.5    STUART  80.671      0.593       9.5  13.25  2.977     1   0.933   \n",
       "2810.0    STUART  75.971      0.638       8.7  12.35  3.020     1   0.911   \n",
       "\n",
       "        Facies  \n",
       "Depth           \n",
       "2808.0       3  \n",
       "2808.5       3  \n",
       "2809.0       3  \n",
       "2809.5       2  \n",
       "2810.0       1  "
      ]
     },
     "execution_count": 26,
     "metadata": {},
     "output_type": "execute_result"
    }
   ],
   "source": []
  },
  {
   "cell_type": "markdown",
   "metadata": {},
   "source": [
    "### Plot data log dan facies hasil prediksi"
   ]
  },
  {
   "cell_type": "code",
   "execution_count": 27,
   "metadata": {},
   "outputs": [
    {
     "data": {
      "image/png": "[encoded data removed]",
      "text/plain": [
       "<Figure size 576x864 with 7 Axes>"
      ]
     },
     "metadata": {
      "needs_background": "light"
     },
     "output_type": "display_data"
    }
   ],
   "source": []
  }
 ],
 "metadata": {
  "kernelspec": {
   "display_name": "Python 3",
   "language": "python",
   "name": "python3"
  },
  "language_info": {
   "codemirror_mode": {
    "name": "ipython",
    "version": 3
   },
   "file_extension": ".py",
   "mimetype": "text/x-python",
   "name": "python",
   "nbconvert_exporter": "python",
   "pygments_lexer": "ipython3",
   "version": "3.7.3"
  }
 },
 "nbformat": 4,
 "nbformat_minor": 4
}
